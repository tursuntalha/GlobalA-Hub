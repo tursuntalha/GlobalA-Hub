{
 "cells": [
  {
   "cell_type": "code",
   "execution_count": 1,
   "id": "b2dad48e",
   "metadata": {
    "_cell_guid": "b1076dfc-b9ad-4769-8c92-a6c4dae69d19",
    "_uuid": "8f2839f25d086af736a60e9eeb907d3b93b6e0e5",
    "execution": {
     "iopub.execute_input": "2024-09-19T20:43:05.991665Z",
     "iopub.status.busy": "2024-09-19T20:43:05.991068Z",
     "iopub.status.idle": "2024-09-19T20:43:08.293258Z",
     "shell.execute_reply": "2024-09-19T20:43:08.291631Z"
    },
    "papermill": {
     "duration": 2.313766,
     "end_time": "2024-09-19T20:43:08.296433",
     "exception": false,
     "start_time": "2024-09-19T20:43:05.982667",
     "status": "completed"
    },
    "tags": []
   },
   "outputs": [
    {
     "name": "stdout",
     "output_type": "stream",
     "text": [
      "/kaggle/input/airbnbopendata/Airbnb_Open_Data.csv\n"
     ]
    }
   ],
   "source": [
    "import numpy as np \n",
    "import pandas as pd \n",
    "import matplotlib.pyplot as plt\n",
    "import seaborn as sns\n",
    "import warnings\n",
    "warnings.filterwarnings('ignore')\n",
    "\n",
    "import os\n",
    "for dirname, _, filenames in os.walk('/kaggle/input'):\n",
    "    for filename in filenames:\n",
    "        print(os.path.join(dirname, filename))\n"
   ]
  },
  {
   "cell_type": "code",
   "execution_count": 2,
   "id": "ca5c3e3c",
   "metadata": {
    "execution": {
     "iopub.execute_input": "2024-09-19T20:43:08.311400Z",
     "iopub.status.busy": "2024-09-19T20:43:08.309986Z",
     "iopub.status.idle": "2024-09-19T20:43:09.735142Z",
     "shell.execute_reply": "2024-09-19T20:43:09.733850Z"
    },
    "papermill": {
     "duration": 1.435355,
     "end_time": "2024-09-19T20:43:09.737992",
     "exception": false,
     "start_time": "2024-09-19T20:43:08.302637",
     "status": "completed"
    },
    "tags": []
   },
   "outputs": [
    {
     "data": {
      "text/html": [
       "<div>\n",
       "<style scoped>\n",
       "    .dataframe tbody tr th:only-of-type {\n",
       "        vertical-align: middle;\n",
       "    }\n",
       "\n",
       "    .dataframe tbody tr th {\n",
       "        vertical-align: top;\n",
       "    }\n",
       "\n",
       "    .dataframe thead th {\n",
       "        text-align: right;\n",
       "    }\n",
       "</style>\n",
       "<table border=\"1\" class=\"dataframe\">\n",
       "  <thead>\n",
       "    <tr style=\"text-align: right;\">\n",
       "      <th></th>\n",
       "      <th>id</th>\n",
       "      <th>NAME</th>\n",
       "      <th>host id</th>\n",
       "      <th>host_identity_verified</th>\n",
       "      <th>host name</th>\n",
       "      <th>neighbourhood group</th>\n",
       "      <th>neighbourhood</th>\n",
       "      <th>lat</th>\n",
       "      <th>long</th>\n",
       "      <th>country</th>\n",
       "      <th>...</th>\n",
       "      <th>service fee</th>\n",
       "      <th>minimum nights</th>\n",
       "      <th>number of reviews</th>\n",
       "      <th>last review</th>\n",
       "      <th>reviews per month</th>\n",
       "      <th>review rate number</th>\n",
       "      <th>calculated host listings count</th>\n",
       "      <th>availability 365</th>\n",
       "      <th>house_rules</th>\n",
       "      <th>license</th>\n",
       "    </tr>\n",
       "  </thead>\n",
       "  <tbody>\n",
       "    <tr>\n",
       "      <th>0</th>\n",
       "      <td>1001254</td>\n",
       "      <td>Clean &amp; quiet apt home by the park</td>\n",
       "      <td>80014485718</td>\n",
       "      <td>unconfirmed</td>\n",
       "      <td>Madaline</td>\n",
       "      <td>Brooklyn</td>\n",
       "      <td>Kensington</td>\n",
       "      <td>40.64749</td>\n",
       "      <td>-73.97237</td>\n",
       "      <td>United States</td>\n",
       "      <td>...</td>\n",
       "      <td>$193</td>\n",
       "      <td>10.0</td>\n",
       "      <td>9.0</td>\n",
       "      <td>10/19/2021</td>\n",
       "      <td>0.21</td>\n",
       "      <td>4.0</td>\n",
       "      <td>6.0</td>\n",
       "      <td>286.0</td>\n",
       "      <td>Clean up and treat the home the way you'd like...</td>\n",
       "      <td>NaN</td>\n",
       "    </tr>\n",
       "    <tr>\n",
       "      <th>1</th>\n",
       "      <td>1002102</td>\n",
       "      <td>Skylit Midtown Castle</td>\n",
       "      <td>52335172823</td>\n",
       "      <td>verified</td>\n",
       "      <td>Jenna</td>\n",
       "      <td>Manhattan</td>\n",
       "      <td>Midtown</td>\n",
       "      <td>40.75362</td>\n",
       "      <td>-73.98377</td>\n",
       "      <td>United States</td>\n",
       "      <td>...</td>\n",
       "      <td>$28</td>\n",
       "      <td>30.0</td>\n",
       "      <td>45.0</td>\n",
       "      <td>5/21/2022</td>\n",
       "      <td>0.38</td>\n",
       "      <td>4.0</td>\n",
       "      <td>2.0</td>\n",
       "      <td>228.0</td>\n",
       "      <td>Pet friendly but please confirm with me if the...</td>\n",
       "      <td>NaN</td>\n",
       "    </tr>\n",
       "    <tr>\n",
       "      <th>2</th>\n",
       "      <td>1002403</td>\n",
       "      <td>THE VILLAGE OF HARLEM....NEW YORK !</td>\n",
       "      <td>78829239556</td>\n",
       "      <td>NaN</td>\n",
       "      <td>Elise</td>\n",
       "      <td>Manhattan</td>\n",
       "      <td>Harlem</td>\n",
       "      <td>40.80902</td>\n",
       "      <td>-73.94190</td>\n",
       "      <td>United States</td>\n",
       "      <td>...</td>\n",
       "      <td>$124</td>\n",
       "      <td>3.0</td>\n",
       "      <td>0.0</td>\n",
       "      <td>NaN</td>\n",
       "      <td>NaN</td>\n",
       "      <td>5.0</td>\n",
       "      <td>1.0</td>\n",
       "      <td>352.0</td>\n",
       "      <td>I encourage you to use my kitchen, cooking and...</td>\n",
       "      <td>NaN</td>\n",
       "    </tr>\n",
       "    <tr>\n",
       "      <th>3</th>\n",
       "      <td>1002755</td>\n",
       "      <td>NaN</td>\n",
       "      <td>85098326012</td>\n",
       "      <td>unconfirmed</td>\n",
       "      <td>Garry</td>\n",
       "      <td>Brooklyn</td>\n",
       "      <td>Clinton Hill</td>\n",
       "      <td>40.68514</td>\n",
       "      <td>-73.95976</td>\n",
       "      <td>United States</td>\n",
       "      <td>...</td>\n",
       "      <td>$74</td>\n",
       "      <td>30.0</td>\n",
       "      <td>270.0</td>\n",
       "      <td>7/5/2019</td>\n",
       "      <td>4.64</td>\n",
       "      <td>4.0</td>\n",
       "      <td>1.0</td>\n",
       "      <td>322.0</td>\n",
       "      <td>NaN</td>\n",
       "      <td>NaN</td>\n",
       "    </tr>\n",
       "    <tr>\n",
       "      <th>4</th>\n",
       "      <td>1003689</td>\n",
       "      <td>Entire Apt: Spacious Studio/Loft by central park</td>\n",
       "      <td>92037596077</td>\n",
       "      <td>verified</td>\n",
       "      <td>Lyndon</td>\n",
       "      <td>Manhattan</td>\n",
       "      <td>East Harlem</td>\n",
       "      <td>40.79851</td>\n",
       "      <td>-73.94399</td>\n",
       "      <td>United States</td>\n",
       "      <td>...</td>\n",
       "      <td>$41</td>\n",
       "      <td>10.0</td>\n",
       "      <td>9.0</td>\n",
       "      <td>11/19/2018</td>\n",
       "      <td>0.10</td>\n",
       "      <td>3.0</td>\n",
       "      <td>1.0</td>\n",
       "      <td>289.0</td>\n",
       "      <td>Please no smoking in the house, porch or on th...</td>\n",
       "      <td>NaN</td>\n",
       "    </tr>\n",
       "  </tbody>\n",
       "</table>\n",
       "<p>5 rows × 26 columns</p>\n",
       "</div>"
      ],
      "text/plain": [
       "        id                                              NAME      host id  \\\n",
       "0  1001254                Clean & quiet apt home by the park  80014485718   \n",
       "1  1002102                             Skylit Midtown Castle  52335172823   \n",
       "2  1002403               THE VILLAGE OF HARLEM....NEW YORK !  78829239556   \n",
       "3  1002755                                               NaN  85098326012   \n",
       "4  1003689  Entire Apt: Spacious Studio/Loft by central park  92037596077   \n",
       "\n",
       "  host_identity_verified host name neighbourhood group neighbourhood  \\\n",
       "0            unconfirmed  Madaline            Brooklyn    Kensington   \n",
       "1               verified     Jenna           Manhattan       Midtown   \n",
       "2                    NaN     Elise           Manhattan        Harlem   \n",
       "3            unconfirmed     Garry            Brooklyn  Clinton Hill   \n",
       "4               verified    Lyndon           Manhattan   East Harlem   \n",
       "\n",
       "        lat      long        country  ... service fee minimum nights  \\\n",
       "0  40.64749 -73.97237  United States  ...       $193            10.0   \n",
       "1  40.75362 -73.98377  United States  ...        $28            30.0   \n",
       "2  40.80902 -73.94190  United States  ...       $124             3.0   \n",
       "3  40.68514 -73.95976  United States  ...        $74            30.0   \n",
       "4  40.79851 -73.94399  United States  ...        $41            10.0   \n",
       "\n",
       "  number of reviews last review  reviews per month review rate number  \\\n",
       "0               9.0  10/19/2021               0.21                4.0   \n",
       "1              45.0   5/21/2022               0.38                4.0   \n",
       "2               0.0         NaN                NaN                5.0   \n",
       "3             270.0    7/5/2019               4.64                4.0   \n",
       "4               9.0  11/19/2018               0.10                3.0   \n",
       "\n",
       "  calculated host listings count  availability 365  \\\n",
       "0                            6.0             286.0   \n",
       "1                            2.0             228.0   \n",
       "2                            1.0             352.0   \n",
       "3                            1.0             322.0   \n",
       "4                            1.0             289.0   \n",
       "\n",
       "                                         house_rules license  \n",
       "0  Clean up and treat the home the way you'd like...     NaN  \n",
       "1  Pet friendly but please confirm with me if the...     NaN  \n",
       "2  I encourage you to use my kitchen, cooking and...     NaN  \n",
       "3                                                NaN     NaN  \n",
       "4  Please no smoking in the house, porch or on th...     NaN  \n",
       "\n",
       "[5 rows x 26 columns]"
      ]
     },
     "execution_count": 2,
     "metadata": {},
     "output_type": "execute_result"
    }
   ],
   "source": [
    "df = pd.read_csv('/kaggle/input/airbnbopendata/Airbnb_Open_Data.csv')\n",
    "df.head()"
   ]
  },
  {
   "cell_type": "code",
   "execution_count": 3,
   "id": "a13c8bb7",
   "metadata": {
    "execution": {
     "iopub.execute_input": "2024-09-19T20:43:09.752681Z",
     "iopub.status.busy": "2024-09-19T20:43:09.752227Z",
     "iopub.status.idle": "2024-09-19T20:43:13.408266Z",
     "shell.execute_reply": "2024-09-19T20:43:13.406624Z"
    },
    "papermill": {
     "duration": 3.66621,
     "end_time": "2024-09-19T20:43:13.410736",
     "exception": false,
     "start_time": "2024-09-19T20:43:09.744526",
     "status": "completed"
    },
    "tags": []
   },
   "outputs": [
    {
     "data": {
      "image/png": "[encoded data removed]",
      "text/plain": [
       "<Figure size 1100x500 with 2 Axes>"
      ]
     },
     "metadata": {},
     "output_type": "display_data"
    },
    {
     "name": "stdout",
     "output_type": "stream",
     "text": [
      "id                                     0\n",
      "NAME                                 250\n",
      "host id                                0\n",
      "host_identity_verified               289\n",
      "host name                            406\n",
      "neighbourhood group                   29\n",
      "neighbourhood                         16\n",
      "lat                                    8\n",
      "long                                   8\n",
      "country                              532\n",
      "country code                         131\n",
      "instant_bookable                     105\n",
      "cancellation_policy                   76\n",
      "room type                              0\n",
      "Construction year                    214\n",
      "price                                247\n",
      "service fee                          273\n",
      "minimum nights                       409\n",
      "number of reviews                    183\n",
      "last review                        15893\n",
      "reviews per month                  15879\n",
      "review rate number                   326\n",
      "calculated host listings count       319\n",
      "availability 365                     448\n",
      "house_rules                        52131\n",
      "license                           102597\n",
      "dtype: int64\n"
     ]
    }
   ],
   "source": [
    "plt.figure(figsize=(11,5))\n",
    "sns.heatmap(df.isna(),cmap='Blues')\n",
    "plt.show()\n",
    "print(df.isna().sum())"
   ]
  },
  {
   "cell_type": "code",
   "execution_count": 4,
   "id": "3049648e",
   "metadata": {
    "execution": {
     "iopub.execute_input": "2024-09-19T20:43:13.429966Z",
     "iopub.status.busy": "2024-09-19T20:43:13.429536Z",
     "iopub.status.idle": "2024-09-19T20:43:13.468388Z",
     "shell.execute_reply": "2024-09-19T20:43:13.467117Z"
    },
    "papermill": {
     "duration": 0.051732,
     "end_time": "2024-09-19T20:43:13.470839",
     "exception": false,
     "start_time": "2024-09-19T20:43:13.419107",
     "status": "completed"
    },
    "tags": []
   },
   "outputs": [
    {
     "data": {
      "text/html": [
       "<div>\n",
       "<style scoped>\n",
       "    .dataframe tbody tr th:only-of-type {\n",
       "        vertical-align: middle;\n",
       "    }\n",
       "\n",
       "    .dataframe tbody tr th {\n",
       "        vertical-align: top;\n",
       "    }\n",
       "\n",
       "    .dataframe thead th {\n",
       "        text-align: right;\n",
       "    }\n",
       "</style>\n",
       "<table border=\"1\" class=\"dataframe\">\n",
       "  <thead>\n",
       "    <tr style=\"text-align: right;\">\n",
       "      <th></th>\n",
       "      <th>name</th>\n",
       "      <th>host identity</th>\n",
       "      <th>neighbourhood group</th>\n",
       "      <th>neighbourhood</th>\n",
       "      <th>lat</th>\n",
       "      <th>long</th>\n",
       "      <th>country</th>\n",
       "      <th>instant_bookable</th>\n",
       "      <th>cancellation_policy</th>\n",
       "      <th>room type</th>\n",
       "      <th>construction year</th>\n",
       "      <th>price</th>\n",
       "      <th>service fee</th>\n",
       "      <th>minimum nights</th>\n",
       "      <th>number of reviews</th>\n",
       "      <th>review rate number</th>\n",
       "      <th>calculated host listings count</th>\n",
       "      <th>availability 365</th>\n",
       "    </tr>\n",
       "  </thead>\n",
       "  <tbody>\n",
       "    <tr>\n",
       "      <th>0</th>\n",
       "      <td>Clean &amp; quiet apt home by the park</td>\n",
       "      <td>unconfirmed</td>\n",
       "      <td>Brooklyn</td>\n",
       "      <td>Kensington</td>\n",
       "      <td>40.64749</td>\n",
       "      <td>-73.97237</td>\n",
       "      <td>United States</td>\n",
       "      <td>False</td>\n",
       "      <td>strict</td>\n",
       "      <td>Private room</td>\n",
       "      <td>2020.0</td>\n",
       "      <td>$966</td>\n",
       "      <td>$193</td>\n",
       "      <td>10.0</td>\n",
       "      <td>9.0</td>\n",
       "      <td>4.0</td>\n",
       "      <td>6.0</td>\n",
       "      <td>286.0</td>\n",
       "    </tr>\n",
       "    <tr>\n",
       "      <th>1</th>\n",
       "      <td>Skylit Midtown Castle</td>\n",
       "      <td>verified</td>\n",
       "      <td>Manhattan</td>\n",
       "      <td>Midtown</td>\n",
       "      <td>40.75362</td>\n",
       "      <td>-73.98377</td>\n",
       "      <td>United States</td>\n",
       "      <td>False</td>\n",
       "      <td>moderate</td>\n",
       "      <td>Entire home/apt</td>\n",
       "      <td>2007.0</td>\n",
       "      <td>$142</td>\n",
       "      <td>$28</td>\n",
       "      <td>30.0</td>\n",
       "      <td>45.0</td>\n",
       "      <td>4.0</td>\n",
       "      <td>2.0</td>\n",
       "      <td>228.0</td>\n",
       "    </tr>\n",
       "    <tr>\n",
       "      <th>2</th>\n",
       "      <td>THE VILLAGE OF HARLEM....NEW YORK !</td>\n",
       "      <td>NaN</td>\n",
       "      <td>Manhattan</td>\n",
       "      <td>Harlem</td>\n",
       "      <td>40.80902</td>\n",
       "      <td>-73.94190</td>\n",
       "      <td>United States</td>\n",
       "      <td>True</td>\n",
       "      <td>flexible</td>\n",
       "      <td>Private room</td>\n",
       "      <td>2005.0</td>\n",
       "      <td>$620</td>\n",
       "      <td>$124</td>\n",
       "      <td>3.0</td>\n",
       "      <td>0.0</td>\n",
       "      <td>5.0</td>\n",
       "      <td>1.0</td>\n",
       "      <td>352.0</td>\n",
       "    </tr>\n",
       "    <tr>\n",
       "      <th>3</th>\n",
       "      <td>NaN</td>\n",
       "      <td>unconfirmed</td>\n",
       "      <td>Brooklyn</td>\n",
       "      <td>Clinton Hill</td>\n",
       "      <td>40.68514</td>\n",
       "      <td>-73.95976</td>\n",
       "      <td>United States</td>\n",
       "      <td>True</td>\n",
       "      <td>moderate</td>\n",
       "      <td>Entire home/apt</td>\n",
       "      <td>2005.0</td>\n",
       "      <td>$368</td>\n",
       "      <td>$74</td>\n",
       "      <td>30.0</td>\n",
       "      <td>270.0</td>\n",
       "      <td>4.0</td>\n",
       "      <td>1.0</td>\n",
       "      <td>322.0</td>\n",
       "    </tr>\n",
       "    <tr>\n",
       "      <th>4</th>\n",
       "      <td>Entire Apt: Spacious Studio/Loft by central park</td>\n",
       "      <td>verified</td>\n",
       "      <td>Manhattan</td>\n",
       "      <td>East Harlem</td>\n",
       "      <td>40.79851</td>\n",
       "      <td>-73.94399</td>\n",
       "      <td>United States</td>\n",
       "      <td>False</td>\n",
       "      <td>moderate</td>\n",
       "      <td>Entire home/apt</td>\n",
       "      <td>2009.0</td>\n",
       "      <td>$204</td>\n",
       "      <td>$41</td>\n",
       "      <td>10.0</td>\n",
       "      <td>9.0</td>\n",
       "      <td>3.0</td>\n",
       "      <td>1.0</td>\n",
       "      <td>289.0</td>\n",
       "    </tr>\n",
       "  </tbody>\n",
       "</table>\n",
       "</div>"
      ],
      "text/plain": [
       "                                               name host identity  \\\n",
       "0                Clean & quiet apt home by the park   unconfirmed   \n",
       "1                             Skylit Midtown Castle      verified   \n",
       "2               THE VILLAGE OF HARLEM....NEW YORK !           NaN   \n",
       "3                                               NaN   unconfirmed   \n",
       "4  Entire Apt: Spacious Studio/Loft by central park      verified   \n",
       "\n",
       "  neighbourhood group neighbourhood       lat      long        country  \\\n",
       "0            Brooklyn    Kensington  40.64749 -73.97237  United States   \n",
       "1           Manhattan       Midtown  40.75362 -73.98377  United States   \n",
       "2           Manhattan        Harlem  40.80902 -73.94190  United States   \n",
       "3            Brooklyn  Clinton Hill  40.68514 -73.95976  United States   \n",
       "4           Manhattan   East Harlem  40.79851 -73.94399  United States   \n",
       "\n",
       "  instant_bookable cancellation_policy        room type  construction year  \\\n",
       "0            False              strict     Private room             2020.0   \n",
       "1            False            moderate  Entire home/apt             2007.0   \n",
       "2             True            flexible     Private room             2005.0   \n",
       "3             True            moderate  Entire home/apt             2005.0   \n",
       "4            False            moderate  Entire home/apt             2009.0   \n",
       "\n",
       "   price service fee  minimum nights  number of reviews  review rate number  \\\n",
       "0  $966        $193             10.0                9.0                 4.0   \n",
       "1  $142         $28             30.0               45.0                 4.0   \n",
       "2  $620        $124              3.0                0.0                 5.0   \n",
       "3  $368         $74             30.0              270.0                 4.0   \n",
       "4  $204         $41             10.0                9.0                 3.0   \n",
       "\n",
       "   calculated host listings count  availability 365  \n",
       "0                             6.0             286.0  \n",
       "1                             2.0             228.0  \n",
       "2                             1.0             352.0  \n",
       "3                             1.0             322.0  \n",
       "4                             1.0             289.0  "
      ]
     },
     "execution_count": 4,
     "metadata": {},
     "output_type": "execute_result"
    }
   ],
   "source": [
    "\n",
    "df.drop(['id','host id','license','house_rules','reviews per month','last review','host name','country code'],axis=1,inplace=True)\n",
    "\n",
    "\n",
    "df.rename(columns={'NAME':'name','host_identity_verified':'host identity','Construction year':'construction year'},inplace=True)\n",
    "df.head()"
   ]
  },
  {
   "cell_type": "code",
   "execution_count": 5,
   "id": "8ac890b4",
   "metadata": {
    "execution": {
     "iopub.execute_input": "2024-09-19T20:43:13.490182Z",
     "iopub.status.busy": "2024-09-19T20:43:13.489429Z",
     "iopub.status.idle": "2024-09-19T20:43:13.507501Z",
     "shell.execute_reply": "2024-09-19T20:43:13.506081Z"
    },
    "papermill": {
     "duration": 0.030951,
     "end_time": "2024-09-19T20:43:13.510427",
     "exception": false,
     "start_time": "2024-09-19T20:43:13.479476",
     "status": "completed"
    },
    "tags": []
   },
   "outputs": [],
   "source": [
    "#kategorik ve sayısal ifadeleri bulma\n",
    "num_cols=df.select_dtypes(include='number').columns\n",
    "cat_cols=df.select_dtypes(include='object').columns"
   ]
  },
  {
   "cell_type": "code",
   "execution_count": 6,
   "id": "c967ec89",
   "metadata": {
    "execution": {
     "iopub.execute_input": "2024-09-19T20:43:13.530236Z",
     "iopub.status.busy": "2024-09-19T20:43:13.529763Z",
     "iopub.status.idle": "2024-09-19T20:43:13.650775Z",
     "shell.execute_reply": "2024-09-19T20:43:13.649513Z"
    },
    "papermill": {
     "duration": 0.13414,
     "end_time": "2024-09-19T20:43:13.653558",
     "exception": false,
     "start_time": "2024-09-19T20:43:13.519418",
     "status": "completed"
    },
    "tags": []
   },
   "outputs": [
    {
     "data": {
      "text/plain": [
       "name                              250\n",
       "host identity                     289\n",
       "neighbourhood group                29\n",
       "neighbourhood                      16\n",
       "lat                                 8\n",
       "long                                8\n",
       "country                           532\n",
       "instant_bookable                  105\n",
       "cancellation_policy                76\n",
       "room type                           0\n",
       "construction year                 214\n",
       "price                             247\n",
       "service fee                       273\n",
       "minimum nights                    409\n",
       "number of reviews                 183\n",
       "review rate number                326\n",
       "calculated host listings count    319\n",
       "availability 365                  448\n",
       "dtype: int64"
      ]
     },
     "execution_count": 6,
     "metadata": {},
     "output_type": "execute_result"
    }
   ],
   "source": [
    "df.isnull().sum()"
   ]
  },
  {
   "cell_type": "code",
   "execution_count": 7,
   "id": "ce3c11a8",
   "metadata": {
    "execution": {
     "iopub.execute_input": "2024-09-19T20:43:13.673054Z",
     "iopub.status.busy": "2024-09-19T20:43:13.672657Z",
     "iopub.status.idle": "2024-09-19T20:43:14.107736Z",
     "shell.execute_reply": "2024-09-19T20:43:14.106394Z"
    },
    "papermill": {
     "duration": 0.448359,
     "end_time": "2024-09-19T20:43:14.110836",
     "exception": false,
     "start_time": "2024-09-19T20:43:13.662477",
     "status": "completed"
    },
    "tags": []
   },
   "outputs": [],
   "source": [
    "from sklearn.impute import KNNImputer"
   ]
  },
  {
   "cell_type": "code",
   "execution_count": 8,
   "id": "c8c2b879",
   "metadata": {
    "execution": {
     "iopub.execute_input": "2024-09-19T20:43:14.131916Z",
     "iopub.status.busy": "2024-09-19T20:43:14.131488Z",
     "iopub.status.idle": "2024-09-19T20:43:26.500235Z",
     "shell.execute_reply": "2024-09-19T20:43:26.498700Z"
    },
    "papermill": {
     "duration": 12.382605,
     "end_time": "2024-09-19T20:43:26.503036",
     "exception": false,
     "start_time": "2024-09-19T20:43:14.120431",
     "status": "completed"
    },
    "tags": []
   },
   "outputs": [],
   "source": [
    "knn_imputer = KNNImputer(n_neighbors=5)  # n_neighbors: KNN'deki komşu sayısı\n",
    "\n",
    "# Sayısal sütunların listesi \n",
    "num_cols = df.select_dtypes(include=['float64', 'int64']).columns\n",
    "\n",
    "# Eksik verileri KNN ile doldur\n",
    "df[num_cols] = knn_imputer.fit_transform(df[num_cols])"
   ]
  },
  {
   "cell_type": "code",
   "execution_count": 9,
   "id": "97da0c7f",
   "metadata": {
    "execution": {
     "iopub.execute_input": "2024-09-19T20:43:26.523381Z",
     "iopub.status.busy": "2024-09-19T20:43:26.522757Z",
     "iopub.status.idle": "2024-09-19T20:43:27.620699Z",
     "shell.execute_reply": "2024-09-19T20:43:27.619559Z"
    },
    "papermill": {
     "duration": 1.11104,
     "end_time": "2024-09-19T20:43:27.623286",
     "exception": false,
     "start_time": "2024-09-19T20:43:26.512246",
     "status": "completed"
    },
    "tags": []
   },
   "outputs": [
    {
     "data": {
      "text/plain": [
       "name                               object\n",
       "host identity                      object\n",
       "neighbourhood group                object\n",
       "neighbourhood                      object\n",
       "lat                               float64\n",
       "long                              float64\n",
       "country                            object\n",
       "instant_bookable                   object\n",
       "cancellation_policy                object\n",
       "room type                          object\n",
       "construction year                 float64\n",
       "price                             float64\n",
       "service fee                       float64\n",
       "minimum nights                    float64\n",
       "number of reviews                 float64\n",
       "review rate number                float64\n",
       "calculated host listings count    float64\n",
       "availability 365                  float64\n",
       "dtype: object"
      ]
     },
     "execution_count": 9,
     "metadata": {},
     "output_type": "execute_result"
    }
   ],
   "source": [
    "\n",
    "df['price']=df['price'].fillna(0)\n",
    "df['service fee']=df['service fee'].fillna(0)\n",
    "\n",
    "df['price'] = df['price'].replace({'\\$': '', ',': ''}, regex=True)\n",
    "df['service fee'] = df['service fee'].replace({'\\$': '', ',': ''}, regex=True)\n",
    "df['price'] = df['price'].astype(float)\n",
    "df['service fee'] = df['service fee'].astype(float)\n",
    "\n",
    "df.dtypes"
   ]
  },
  {
   "cell_type": "code",
   "execution_count": 10,
   "id": "857f31c2",
   "metadata": {
    "execution": {
     "iopub.execute_input": "2024-09-19T20:43:27.644219Z",
     "iopub.status.busy": "2024-09-19T20:43:27.643788Z",
     "iopub.status.idle": "2024-09-19T20:43:28.145807Z",
     "shell.execute_reply": "2024-09-19T20:43:28.144106Z"
    },
    "papermill": {
     "duration": 0.51491,
     "end_time": "2024-09-19T20:43:28.148029",
     "exception": true,
     "start_time": "2024-09-19T20:43:27.633119",
     "status": "failed"
    },
    "tags": []
   },
   "outputs": [
    {
     "ename": "NameError",
     "evalue": "name 'SimpleImputer' is not defined",
     "output_type": "error",
     "traceback": [
      "\u001b[0;31m---------------------------------------------------------------------------\u001b[0m",
      "\u001b[0;31mNameError\u001b[0m                                 Traceback (most recent call last)",
      "Cell \u001b[0;32mIn[10], line 1\u001b[0m\n\u001b[0;32m----> 1\u001b[0m imputer\u001b[38;5;241m=\u001b[39m\u001b[43mSimpleImputer\u001b[49m(strategy\u001b[38;5;241m=\u001b[39m\u001b[38;5;124m'\u001b[39m\u001b[38;5;124mmost_frequent\u001b[39m\u001b[38;5;124m'\u001b[39m)\n\u001b[1;32m      2\u001b[0m df[cat_cols]\u001b[38;5;241m=\u001b[39mimputer\u001b[38;5;241m.\u001b[39mfit_transform(df[cat_cols])\n\u001b[1;32m      3\u001b[0m df\u001b[38;5;241m.\u001b[39misna()\u001b[38;5;241m.\u001b[39msum()\n",
      "\u001b[0;31mNameError\u001b[0m: name 'SimpleImputer' is not defined"
     ]
    }
   ],
   "source": [
    "imputer=SimpleImputer(strategy='most_frequent')\n",
    "df[cat_cols]=imputer.fit_transform(df[cat_cols])\n",
    "df.isna().sum()"
   ]
  },
  {
   "cell_type": "code",
   "execution_count": null,
   "id": "95c0129d",
   "metadata": {
    "papermill": {
     "duration": null,
     "end_time": null,
     "exception": null,
     "start_time": null,
     "status": "pending"
    },
    "tags": []
   },
   "outputs": [],
   "source": [
    "from sklearn.preprocessing import LabelEncoder, StandardScaler"
   ]
  },
  {
   "cell_type": "code",
   "execution_count": null,
   "id": "eef83c2e",
   "metadata": {
    "papermill": {
     "duration": null,
     "end_time": null,
     "exception": null,
     "start_time": null,
     "status": "pending"
    },
    "tags": []
   },
   "outputs": [],
   "source": [
    "categorical_cols = df.select_dtypes(include=['object']).columns\n",
    "label_encoder = LabelEncoder()\n",
    "for col in categorical_cols:\n",
    "    df[col + '_encoded'] = label_encoder.fit_transform(df[col])\n",
    "df = df.drop(columns=categorical_cols)"
   ]
  },
  {
   "cell_type": "code",
   "execution_count": null,
   "id": "2ace965e",
   "metadata": {
    "papermill": {
     "duration": null,
     "end_time": null,
     "exception": null,
     "start_time": null,
     "status": "pending"
    },
    "tags": []
   },
   "outputs": [],
   "source": [
    "df.info()"
   ]
  },
  {
   "cell_type": "code",
   "execution_count": null,
   "id": "eb347ce4",
   "metadata": {
    "papermill": {
     "duration": null,
     "end_time": null,
     "exception": null,
     "start_time": null,
     "status": "pending"
    },
    "tags": []
   },
   "outputs": [],
   "source": [
    "# Korelasyon matrisini hesaplayalım\n",
    "corr_matrix = df.corr()\n",
    "\n",
    "# Price sütunu ile ilişkileri gösteren ısı haritası\n",
    "plt.figure(figsize=(10, 8))\n",
    "sns.heatmap(corr_matrix[['price_encoded']], annot=True, cmap='coolwarm', fmt='.2f')\n",
    "plt.title('Price Sütunu ile Diğer Değişkenler Arasındaki Korelasyon')\n",
    "plt.show()"
   ]
  },
  {
   "cell_type": "code",
   "execution_count": null,
   "id": "5a645bff",
   "metadata": {
    "papermill": {
     "duration": null,
     "end_time": null,
     "exception": null,
     "start_time": null,
     "status": "pending"
    },
    "tags": []
   },
   "outputs": [],
   "source": [
    "# price ile bazı değişkenler arasındaki ilişki\n",
    "num_cols = df.select_dtypes(include=['number']).columns\n",
    "num_cols = num_cols[num_cols != 'price_encoded']\n",
    "\n",
    "# Alt grafik düzenini değiştirin\n",
    "num_plots = len(num_cols)\n",
    "rows = (num_plots // 3) + (num_plots % 3 > 0)  # 3 sütunlu düzen, gerekli satır sayısını hesaplayın\n",
    "\n",
    "plt.figure(figsize=(15, 5 * rows))  # Grafik boyutunu ayarlayın\n",
    "for i, col in enumerate(num_cols, 1):\n",
    "    plt.subplot(rows, 3, i)  # 3 sütunlu düzen\n",
    "    sns.scatterplot(data=df, x=col, y='price_encoded')  # 'price_encoded' yerine 'price' kullanın\n",
    "    plt.title(f'Price vs {col}')\n",
    "    plt.xlabel(col)\n",
    "    plt.ylabel('Price')\n",
    "plt.tight_layout()\n",
    "plt.show()"
   ]
  },
  {
   "cell_type": "code",
   "execution_count": null,
   "id": "55ac43b7",
   "metadata": {
    "papermill": {
     "duration": null,
     "end_time": null,
     "exception": null,
     "start_time": null,
     "status": "pending"
    },
    "tags": []
   },
   "outputs": [],
   "source": [
    "from sklearn.model_selection import train_test_split"
   ]
  },
  {
   "cell_type": "code",
   "execution_count": null,
   "id": "52cfc68c",
   "metadata": {
    "papermill": {
     "duration": null,
     "end_time": null,
     "exception": null,
     "start_time": null,
     "status": "pending"
    },
    "tags": []
   },
   "outputs": [],
   "source": [
    "X_train, X_test, y_train, y_test = train_test_split(X, y, test_size=0.2, random_state=42)\n",
    "\n",
    "# Verilerin ölçeklenmesi\n",
    "scaler = StandardScaler()\n",
    "X_train = scaler.fit_transform(X_train)\n",
    "X_test = scaler.transform(X_test)"
   ]
  },
  {
   "cell_type": "code",
   "execution_count": null,
   "id": "5c016e15",
   "metadata": {
    "papermill": {
     "duration": null,
     "end_time": null,
     "exception": null,
     "start_time": null,
     "status": "pending"
    },
    "tags": []
   },
   "outputs": [],
   "source": [
    "from sklearn.model_selection import cross_val_score, train_test_split\n",
    "from sklearn.linear_model import LogisticRegression\n",
    "from sklearn.tree import DecisionTreeClassifier\n",
    "from sklearn.ensemble import RandomForestClassifier\n",
    "from sklearn.svm import SVC\n",
    "\n",
    "\n",
    "# Örnek veri seti\n",
    "# df = pd.read_csv('your_dataset.csv')  # Verinizi buraya yükleyin\n",
    "# X = df.drop('target', axis=1)  # Özellikler\n",
    "# y = df['target']  # Hedef değişken\n",
    "\n",
    "# Eğitim ve test setlerine ayırma\n",
    "X_train, X_test, y_train, y_test = train_test_split(X, y, test_size=0.2, random_state=42)\n",
    "\n",
    "# Modelleri tanımlama\n",
    "models = {\n",
    "    'Logistic Regression': LogisticRegression(),\n",
    "    'Decision Tree': DecisionTreeClassifier(),\n",
    "    'Random Forest': RandomForestClassifier(),\n",
    "    'Support Vector Machine': SVC()\n",
    "}\n",
    "\n",
    "# Her bir model için çapraz doğrulama sonuçlarını hesaplama\n",
    "results = {}\n",
    "for name, model in models.items():\n",
    "    scores = cross_val_score(model, X_train, y_train, cv=5, scoring='accuracy')\n",
    "    results[name] = np.mean(scores)\n",
    "\n",
    "# En iyi performansı gösteren modeli bulma\n",
    "best_model_name = max(results, key=results.get)\n",
    "best_model_score = results[best_model_name]\n",
    "\n",
    "print(f\"En iyi model: {best_model_name}\")\n",
    "print(f\"En iyi performans skoru: {best_model_score:.4f}\")\n",
    "\n",
    "# En iyi modeli tam eğitim verisiyle eğitme\n",
    "best_model = models[best_model_name]\n",
    "best_model.fit(X_train, y_train)\n",
    "\n",
    "# Test verisiyle tahmin yapma ve skoru yazdırma\n",
    "test_score = best_model.score(X_test, y_test)\n",
    "print(f\"Test verisi üzerindeki {best_model_name} skoru: {test_score:.4f}\")"
   ]
  },
  {
   "cell_type": "code",
   "execution_count": null,
   "id": "e99c8a6c",
   "metadata": {
    "papermill": {
     "duration": null,
     "end_time": null,
     "exception": null,
     "start_time": null,
     "status": "pending"
    },
    "tags": []
   },
   "outputs": [],
   "source": [
    "mse = mean_squared_error(y_test, y_pred)\n",
    "print(f\"Test verisi üzerindeki {best_model_name} MSE değeri: {mse:.4f}\")"
   ]
  }
 ],
 "metadata": {
  "kaggle": {
   "accelerator": "none",
   "dataSources": [
    {
     "datasetId": 2380415,
     "sourceId": 4016336,
     "sourceType": "datasetVersion"
    }
   ],
   "isGpuEnabled": false,
   "isInternetEnabled": true,
   "language": "python",
   "sourceType": "notebook"
  },
  "kernelspec": {
   "display_name": "Python 3",
   "language": "python",
   "name": "python3"
  },
  "language_info": {
   "codemirror_mode": {
    "name": "ipython",
    "version": 3
   },
   "file_extension": ".py",
   "mimetype": "text/x-python",
   "name": "python",
   "nbconvert_exporter": "python",
   "pygments_lexer": "ipython3",
   "version": "3.10.14"
  },
  "papermill": {
   "default_parameters": {},
   "duration": 26.327274,
   "end_time": "2024-09-19T20:43:28.980380",
   "environment_variables": {},
   "exception": true,
   "input_path": "__notebook__.ipynb",
   "output_path": "__notebook__.ipynb",
   "parameters": {},
   "start_time": "2024-09-19T20:43:02.653106",
   "version": "2.6.0"
  }
 },
 "nbformat": 4,
 "nbformat_minor": 5
}
